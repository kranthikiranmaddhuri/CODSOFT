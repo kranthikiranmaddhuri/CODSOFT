{
 "cells": [
  {
   "cell_type": "markdown",
   "id": "b430e2fe",
   "metadata": {},
   "source": [
    "# PASSWORD GENERATOR"
   ]
  },
  {
   "cell_type": "code",
   "execution_count": null,
   "id": "1df1cee0",
   "metadata": {},
   "outputs": [
    {
     "name": "stdout",
     "output_type": "stream",
     "text": [
      "Accepted Password: -t95`]S\n"
     ]
    }
   ],
   "source": [
    "import tkinter as tk\n",
    "import random\n",
    "import string\n",
    "\n",
    "def generate_password():\n",
    "    username = username_entry.get()\n",
    "    password_length = int(length_entry.get())\n",
    "    \n",
    "    characters = string.ascii_letters + string.digits + string.punctuation\n",
    "    generated_password = ''.join(random.choice(characters) for _ in range(password_length))\n",
    "    \n",
    "    generated_password_entry.delete(0, tk.END)  # Clear previous content\n",
    "    generated_password_entry.insert(0, generated_password)\n",
    "\n",
    "def reset_password():\n",
    "    generated_password_entry.delete(0, tk.END)\n",
    "\n",
    "def accept_password():\n",
    "    accepted_password = generated_password_entry.get()\n",
    "    print(\"Accepted Password:\", accepted_password)\n",
    "\n",
    "# Create the main window\n",
    "root = tk.Tk()\n",
    "root.title(\"Password Generator\")\n",
    "root.geometry(\"300x300\")\n",
    "\n",
    "# Set the title heading with black font color\n",
    "title_label = tk.Label(root, text=\"Password Generator\", font=(\"Helvetica\", 16, \"bold\"), fg=\"black\")\n",
    "title_label.pack(pady=10)\n",
    "\n",
    "# Create and place widgets\n",
    "username_label = tk.Label(root, text=\"Username:\")\n",
    "username_label.pack()\n",
    "\n",
    "username_entry = tk.Entry(root)\n",
    "username_entry.pack()\n",
    "\n",
    "length_label = tk.Label(root, text=\"Password Length:\")\n",
    "length_label.pack()\n",
    "\n",
    "length_entry = tk.Entry(root)\n",
    "length_entry.pack()\n",
    "\n",
    "generate_button = tk.Button(root, text=\"Generate Password\",bg=\"light blue\", command=generate_password)\n",
    "generate_button.pack()\n",
    "\n",
    "# Entry widget to display the generated password\n",
    "generated_password_entry = tk.Entry(root)\n",
    "generated_password_entry.pack()\n",
    "\n",
    "# Create \"Reset\" and \"Accept\" buttons\n",
    "button_frame = tk.Frame(root)\n",
    "reset_button = tk.Button(button_frame, text=\"Reset\", command=reset_password)\n",
    "accept_button = tk.Button(button_frame, text=\"Accept\", command=accept_password)\n",
    "\n",
    "reset_button.pack(side=tk.LEFT, padx=10)\n",
    "accept_button.pack(side=tk.LEFT)\n",
    "\n",
    "button_frame.pack()\n",
    "\n",
    "# Start the GUI event loop\n",
    "root.mainloop()"
   ]
  },
  {
   "cell_type": "code",
   "execution_count": null,
   "id": "bc5e061e",
   "metadata": {},
   "outputs": [],
   "source": []
  }
 ],
 "metadata": {
  "kernelspec": {
   "display_name": "Python 3 (ipykernel)",
   "language": "python",
   "name": "python3"
  },
  "language_info": {
   "codemirror_mode": {
    "name": "ipython",
    "version": 3
   },
   "file_extension": ".py",
   "mimetype": "text/x-python",
   "name": "python",
   "nbconvert_exporter": "python",
   "pygments_lexer": "ipython3",
   "version": "3.10.11"
  }
 },
 "nbformat": 4,
 "nbformat_minor": 5
}
